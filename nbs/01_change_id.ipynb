{
 "cells": [
  {
   "cell_type": "markdown",
   "metadata": {},
   "source": [
    "# change id\n",
    "\n",
    "> this module helps you change the package name of the app."
   ]
  },
  {
   "cell_type": "code",
   "execution_count": null,
   "metadata": {},
   "outputs": [],
   "source": [
    "#| default_exp change_id"
   ]
  },
  {
   "cell_type": "code",
   "execution_count": null,
   "metadata": {},
   "outputs": [],
   "source": [
    "#| hide\n",
    "from nbdev.showdoc import *"
   ]
  },
  {
   "cell_type": "code",
   "execution_count": null,
   "metadata": {},
   "outputs": [],
   "source": [
    "#| export\n",
    "def foo(): pass"
   ]
  },
  {
   "cell_type": "code",
   "execution_count": null,
   "metadata": {},
   "outputs": [],
   "source": [
    "#| hide\n",
    "import nbdev; nbdev.nbdev_export()"
   ]
  },
  {
   "cell_type": "code",
   "execution_count": null,
   "metadata": {},
   "outputs": [],
   "source": [
    "#| export\n",
    "import os"
   ]
  },
  {
   "cell_type": "code",
   "execution_count": null,
   "metadata": {},
   "outputs": [],
   "source": [
    "#| export\n",
    "def change_package_name(path, newname, oldname = \"hgzech\"):\n",
    "    \n",
    "    for path, dirs, files in os.walk(path,topdown=False):\n",
    "        if oldname in dirs:\n",
    "            os.chdir(path)\n",
    "            os.rename(oldname, newname)\n",
    "            \n",
    "    for path, dirs, files in os.walk(path,topdown=False):\n",
    "        os.chdir(path)\n",
    "        for file_name in files:\n",
    "            with open(file_name,\"r\",encoding='utf-8',errors='ignore') as file:\n",
    "                text = file.read()\n",
    "            if (oldname in text) and (file_name!=\"local.properties\"):\n",
    "                text = text.replace(oldname, newname)\n",
    "                with open(file_name,\"w\",encoding='utf-8',errors='ignore') as file:\n",
    "                    file.write(text)"
   ]
  },
  {
   "cell_type": "code",
   "execution_count": null,
   "metadata": {},
   "outputs": [],
   "source": [
    "change_package_name(\"/Users/hilmarzech/AndroidStudioProjects/mobile_aat\",\"hilmarzech\",oldname = \"ramlihhcez\")"
   ]
  }
 ],
 "metadata": {
  "kernelspec": {
   "display_name": "Python 3 (ipykernel)",
   "language": "python",
   "name": "python3"
  }
 },
 "nbformat": 4,
 "nbformat_minor": 4
}
