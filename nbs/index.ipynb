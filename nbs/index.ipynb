{
 "cells": [
  {
   "cell_type": "code",
   "execution_count": null,
   "metadata": {},
   "outputs": [],
   "source": [
    "#| hide\n",
    "from mobile_aat_setup.change_id import *"
   ]
  },
  {
   "cell_type": "markdown",
   "metadata": {},
   "source": [
    "# mobile AAT setup\n",
    "\n",
    "> This package helps setup the mobile AAT."
   ]
  },
  {
   "cell_type": "markdown",
   "metadata": {},
   "source": [
    "## How to use?"
   ]
  },
  {
   "cell_type": "markdown",
   "metadata": {},
   "source": [
    "### Setup Firebase\n",
    "Before using this package, you need to setup a firebase project. If you already have Firebase set up, skip to step 5.\n",
    "\n",
    "1) Open http://firebase.google.com, log in with your google account and create a new project.\n",
    "    - The name here does not matter, you don't need google analytics\n",
    "2) In your project create a database (this is where the data AATs be stored)\n",
    "   - click on Realtime Database (on the left)\n",
    "   - click Create Database \n",
    "   - choose Belgium for Database location\n",
    "   - choose start in locked mode\n",
    "   - ones the database is created click on Rules (on the top) and change the two \"false\" to \"true\"\n",
    "   - Publish\n",
    "3) Create Firebase storage (this is where you can upload experiments)\n",
    "   - click on Storage (on the left)\n",
    "   - click on Get started\n",
    "   - Start in production mode \n",
    "   - Set location to Europe west\n",
    "   - click on Rules and change the \"false\" to \"true\"\n",
    "4) Add the app\n",
    "   - Click on the cog, next to Project Overview (upper left)\n",
    "   - Click on Project settings\n",
    "   - Click on the Android logo (bottom)\n",
    "   - Under Android package name, fill in com.yourname.picturegame, where you replace yourname with your name or your lab's name.\n",
    "5) Download google-services.json"
   ]
  },
  {
   "cell_type": "markdown",
   "metadata": {},
   "source": [
    "### Install the mobile aat setup package"
   ]
  },
  {
   "cell_type": "markdown",
   "metadata": {},
   "source": [
    "`pip install mobile_aat_setup`"
   ]
  },
  {
   "cell_type": "markdown",
   "metadata": {},
   "source": [
    "### Download mobile AAT package and prepare\n",
    "The following downloads the newest version of the mobile AAT app, changes the app's package ID (so you can upload your own version of the app to the Playstore) and links the app to your google Firebase account."
   ]
  },
  {
   "cell_type": "code",
   "execution_count": null,
   "metadata": {},
   "outputs": [],
   "source": [
    "PATH_TO_WHERE_YOU_WANT_TO_STORE_THE_APP = '/Users/hilmarzech/Desktop/mobileaat'\n",
    "PATH_TO_GOOGLE_SERVICES_JSON = '/Users/hilmarzech/Desktop/google-services.json'\n",
    "\n",
    "setup_aat(PATH_TO_WHERE_YOU_WANT_TO_STORE_THE_APP, PATH_TO_GOOGLE_SERVICES_JSON)"
   ]
  },
  {
   "cell_type": "markdown",
   "metadata": {},
   "source": [
    "### Download Android Studio and open the created folder"
   ]
  }
 ],
 "metadata": {
  "kernelspec": {
   "display_name": "Python 3 (ipykernel)",
   "language": "python",
   "name": "python3"
  }
 },
 "nbformat": 4,
 "nbformat_minor": 4
}
