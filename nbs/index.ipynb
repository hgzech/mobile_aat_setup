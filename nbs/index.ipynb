{
 "cells": [
  {
   "cell_type": "code",
   "execution_count": null,
   "metadata": {},
   "outputs": [],
   "source": [
    "#| hide\n",
    "from mobile_aat_setup.change_id import *"
   ]
  },
  {
   "cell_type": "markdown",
   "metadata": {},
   "source": [
    "# mobile AAT setup\n",
    "\n",
    "> This module helps change the application id of the mobile AAT"
   ]
  },
  {
   "cell_type": "markdown",
   "metadata": {},
   "source": [
    "## How to use?\n",
    "### Change package name\n",
    "The function below replaces the middle part of the Android Project's package ID (the default is hilmarzech in com.hilmarzech.mobileaat). Replacing this middle part should be sufficient to avoid conflicts with existing installations and to upload your own version of the app to the playstore."
   ]
  },
  {
   "cell_type": "code",
   "execution_count": null,
   "metadata": {},
   "outputs": [],
   "source": [
    "PATH_TO_THE_ANDROID_STUDIO_PROJECT = \"example/path\"\n",
    "NEWNAME = \"examplename\"\n",
    "change_package_name(PATH_TO_THE_ANDROID_STUDIO_PROJECT, NEWNAME)"
   ]
  },
  {
   "cell_type": "markdown",
   "metadata": {},
   "source": [
    "### Link to Firebase\n",
    "After changing the package name, add an Android App with the new package name (e.g. \"com.examplename.mobileaat\") to Firebase. Next download the google-services.json and place it into mobileaat/app."
   ]
  }
 ],
 "metadata": {
  "kernelspec": {
   "display_name": "Python 3 (ipykernel)",
   "language": "python",
   "name": "python3"
  }
 },
 "nbformat": 4,
 "nbformat_minor": 4
}
